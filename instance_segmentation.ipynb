{
 "cells": [
  {
   "cell_type": "code",
   "execution_count": 1,
   "metadata": {},
   "outputs": [],
   "source": []
  },
  {
   "cell_type": "markdown",
   "metadata": {},
   "source": [
    "## Upload predictions from your instance segmentation model to Supervisely [tutorial]\n",
    "\n",
    "(тут добавить картинку)\n",
    "\n",
    "Welcome to Supervisely tutorial! \n",
    "(вкратце что тут будет происходить)\n",
    "As an example we will use instance segmentation model from awesome framework Detectron2. \n",
    "\n",
    "(быстро пробежаться по плану)\n",
    "\n",
    "(сделать отсылку к ноутбуку Detectron2, в духе \"взяты элементы оттуда\")\n",
    "\n",
    "You can make a copy of this tutorial by \"File -> Open in playground mode\" and make changes there. DO NOT request access to this tutorial."
   ]
  },
  {
   "cell_type": "markdown",
   "metadata": {},
   "source": [
    "### Prepare dependencies"
   ]
  },
  {
   "cell_type": "code",
   "execution_count": null,
   "metadata": {},
   "outputs": [],
   "source": [
    "!python -m pip install pyyaml==6.0\n",
    "!python -m pip install 'git+https://github.com/facebookresearch/detectron2.git'\n",
    "!python -m pip install supervisely"
   ]
  },
  {
   "cell_type": "code",
   "execution_count": null,
   "metadata": {},
   "outputs": [],
   "source": [
    "import torch, detectron2, supervisely as sly\n",
    "!nvcc --version\n",
    "TORCH_VERSION = \".\".join(torch.__version__.split(\".\")[:2])\n",
    "CUDA_VERSION = torch.__version__.split(\"+\")[-1]\n",
    "print(\"torch: \", TORCH_VERSION, \"; cuda: \", CUDA_VERSION)\n",
    "print(\"detectron2:\", detectron2.__version__)\n",
    "print(\"supervisely:\", sly.__version__)"
   ]
  },
  {
   "cell_type": "code",
   "execution_count": null,
   "metadata": {},
   "outputs": [],
   "source": [
    "# Some basic setup:\n",
    "# Setup detectron2 logger\n",
    "import detectron2\n",
    "from detectron2.utils.logger import setup_logger\n",
    "setup_logger()\n",
    "\n",
    "# import some common libraries\n",
    "import numpy as np\n",
    "from tqdm import tqdm\n",
    "import os, json, cv2, random\n",
    "from google.colab.patches import cv2_imshow\n",
    "\n",
    "# import some common detectron2 utilities\n",
    "from detectron2 import model_zoo\n",
    "from detectron2.engine import DefaultPredictor\n",
    "from detectron2.config import get_cfg\n",
    "from detectron2.utils.visualizer import Visualizer\n",
    "from detectron2.data import MetadataCatalog, DatasetCatalog"
   ]
  },
  {
   "cell_type": "markdown",
   "metadata": {},
   "source": [
    "### Prepare Supervisely"
   ]
  },
  {
   "cell_type": "code",
   "execution_count": null,
   "metadata": {},
   "outputs": [],
   "source": [
    "# Насколько безопасно юзеру оставлять здесь свои доступы?\n",
    "os.environ['SERVER_ADDRESS'] = \"https://app.supervise.ly/\"\n",
    "os.environ['API_TOKEN'] = \"\" # YOUR API TOKEN\n"
   ]
  },
  {
   "cell_type": "code",
   "execution_count": null,
   "metadata": {},
   "outputs": [],
   "source": [
    "api = sly.Api.from_env()\n",
    "project_id = 12466 # YOUR SUPERVISELY PROJECT ID\n",
    "\n",
    "src_project_info = api.project.get_info_by_id(project_id)\n",
    "workspace_id = src_project_info.workspace_id\n",
    "src_project_name = src_project_info.name\n",
    "dst_project_name = f\"{src_project_name}_labeled_inst_seg\"\n",
    "\n",
    "# Clone source project without existing annotations\n",
    "clone_task_id = api.project.clone_advanced(\n",
    "    project_id, workspace_id, dst_project_name, with_annotations=False\n",
    ")\n",
    "api.task.wait(clone_task_id, api.task.Status(\"finished\"))\n",
    "dst_project_info = api.project.get_info_by_name(workspace_id, dst_project_name)\n",
    "\n",
    "# Get new project meta\n",
    "project_meta_json = api.project.get_meta(dst_project_info.id)\n",
    "project_meta = sly.ProjectMeta.from_json(project_meta_json)"
   ]
  },
  {
   "cell_type": "markdown",
   "metadata": {},
   "source": [
    "### Prepare your model"
   ]
  },
  {
   "cell_type": "code",
   "execution_count": null,
   "metadata": {},
   "outputs": [],
   "source": [
    "cfg = get_cfg()\n",
    "cfg.merge_from_file(\n",
    "    model_zoo.get_config_file(\n",
    "        \"COCO-InstanceSegmentation/mask_rcnn_R_50_FPN_3x.yaml\"\n",
    "    )\n",
    ")\n",
    "cfg.MODEL.ROI_HEADS.SCORE_THRESH_TEST = 0.5 \n",
    "cfg.MODEL.DEVICE = \"cpu\"\n",
    "cfg.MODEL.WEIGHTS = model_zoo.get_checkpoint_url(\n",
    "    \"COCO-InstanceSegmentation/mask_rcnn_R_50_FPN_3x.yaml\"\n",
    ")\n",
    "predictor = DefaultPredictor(cfg)\n",
    "class_names = MetadataCatalog.get(cfg.DATASETS.TRAIN[0]).get('thing_classes')"
   ]
  },
  {
   "cell_type": "markdown",
   "metadata": {},
   "source": [
    "Add model classes and 'confidence' tag to project meta"
   ]
  },
  {
   "cell_type": "code",
   "execution_count": null,
   "metadata": {},
   "outputs": [],
   "source": [
    "model_obj_classes = []\n",
    "for class_name in class_names:\n",
    "    model_obj_classes.append(sly.ObjClass(class_name, sly.Bitmap))\n",
    "confidence_tag_meta = sly.TagMeta(\n",
    "    name='confidence', \n",
    "    value_type=sly.TagValueType.ANY_NUMBER, \n",
    "    applicable_to=sly.TagApplicableTo.OBJECTS_ONLY\n",
    ")\n",
    "model_meta = sly.ProjectMeta(\n",
    "    obj_classes=model_obj_classes, \n",
    "    tag_metas=[confidence_tag_meta]\n",
    ")\n",
    "merged_project_meta = project_meta.merge(model_meta)\n",
    "api.project.update_meta(project_id, merged_project_meta)"
   ]
  },
  {
   "cell_type": "markdown",
   "metadata": {},
   "source": []
  },
  {
   "cell_type": "markdown",
   "metadata": {},
   "source": [
    "### Base model usage"
   ]
  },
  {
   "cell_type": "code",
   "execution_count": null,
   "metadata": {},
   "outputs": [],
   "source": [
    "image_id = 18274952 # YOUR IMAGE ID FROM SUPERVISELY\n",
    "image = api.image.download_np(image_id)\n",
    "image = cv2.cvtColor(image, cv2.COLOR_RGB2BGR)\n",
    "cv2_imshow(image)"
   ]
  },
  {
   "cell_type": "code",
   "execution_count": null,
   "metadata": {},
   "outputs": [],
   "source": [
    "# Get predictions from Detectron2 model\n",
    "outputs = predictor(image)"
   ]
  },
  {
   "cell_type": "code",
   "execution_count": null,
   "metadata": {},
   "outputs": [],
   "source": [
    "# look at the outputs. See https://detectron2.readthedocs.io/tutorials/models.html#model-output-format for specification\n",
    "print(outputs[\"instances\"].pred_classes)\n",
    "print(outputs[\"instances\"].pred_boxes)"
   ]
  },
  {
   "cell_type": "markdown",
   "metadata": {},
   "source": [
    "maybe convert labels and use sly visualizer?"
   ]
  },
  {
   "cell_type": "code",
   "execution_count": null,
   "metadata": {},
   "outputs": [],
   "source": [
    "# We can use `Visualizer` to draw the predictions on the image.\n",
    "v = Visualizer(image[:, :, ::-1], MetadataCatalog.get(cfg.DATASETS.TRAIN[0]), scale=1.2)\n",
    "out = v.draw_instance_predictions(outputs[\"instances\"].to(\"cpu\"))\n",
    "cv2_imshow(out.get_image()[:, :, ::-1])"
   ]
  },
  {
   "cell_type": "markdown",
   "metadata": {},
   "source": [
    "### Label your project"
   ]
  },
  {
   "cell_type": "code",
   "execution_count": null,
   "metadata": {},
   "outputs": [],
   "source": [
    "def apply_model_to_image(image, model, class_names, project_meta):\n",
    "    img_size = image.shape[:2]\n",
    "    # Get predictions from Detectron2 model\n",
    "    outputs = model(image)\n",
    "\n",
    "    pred_classes = outputs[\"instances\"].pred_classes.detach().numpy()\n",
    "    pred_class_names = [class_names[pred_class] for pred_class in pred_classes]\n",
    "    pred_scores = outputs[\"instances\"].scores.detach().numpy()\n",
    "    pred_masks = outputs[\"instances\"].pred_masks.detach().numpy()\n",
    "\n",
    "    # create Supervisely Labels from predicted objects\n",
    "    labels = []\n",
    "    for score, class_name, mask in zip(pred_scores, pred_class_names, pred_masks):\n",
    "        if not mask.any():  # skip empty masks\n",
    "            continue\n",
    "        obj_class = project_meta.get_obj_class(class_name)\n",
    "        conf_tag = sly.Tag(\n",
    "            meta=project_meta.get_tag_meta(\"confidence\"),\n",
    "            value=round(float(score), 4),\n",
    "        )\n",
    "        geometry = sly.Bitmap(mask)\n",
    "        mask_label = sly.Label(geometry, obj_class, sly.TagCollection([conf_tag]))\n",
    "        labels.append(mask_label)\n",
    "\n",
    "    # create Supervisely Annotation\n",
    "    annotation = sly.Annotation(img_size=img_size, labels=labels)\n",
    "    return annotation"
   ]
  },
  {
   "cell_type": "code",
   "execution_count": 3,
   "metadata": {},
   "outputs": [],
   "source": [
    "datasets = api.dataset.get_list(dst_project_info.id)\n",
    "imgs_num = sum([dataset.images_count for dataset in datasets])\n",
    "with tqdm(total=imgs_num) as pbar:\n",
    "    for dataset_info in datasets:\n",
    "        ds_images = api.image.get_list(dataset_info.id)\n",
    "        for image_info in ds_images:\n",
    "            image = api.image.download_np(image_info.id)\n",
    "            image = cv2.cvtColor(image, cv2.COLOR_RGB2BGR)\n",
    "            annotation = apply_model_to_image(\n",
    "                image, predictor, class_names, merged_project_meta\n",
    "            )\n",
    "            api.annotation.upload_ann(image_info.id, annotation)\n",
    "            pbar.update()"
   ]
  }
 ],
 "metadata": {
  "kernelspec": {
   "display_name": "Python 3.8.10 ('.venv': venv)",
   "language": "python",
   "name": "python3"
  },
  "language_info": {
   "codemirror_mode": {
    "name": "ipython",
    "version": 3
   },
   "file_extension": ".py",
   "mimetype": "text/x-python",
   "name": "python",
   "nbconvert_exporter": "python",
   "pygments_lexer": "ipython3",
   "version": "3.8.10"
  },
  "orig_nbformat": 4,
  "vscode": {
   "interpreter": {
    "hash": "293fa4b92c190a2ef19b6d4c208599e9a1f1b7e56c2b2090f6d3a7c0422662e3"
   }
  }
 },
 "nbformat": 4,
 "nbformat_minor": 2
}
